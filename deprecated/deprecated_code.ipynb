{
 "cells": [
  {
   "cell_type": "code",
   "execution_count": null,
   "id": "c21be337",
   "metadata": {},
   "outputs": [],
   "source": [
    "for i in range(6):\n",
    "    plt.figure(figsize=(20,6))\n",
    "    plt.subplot(1, 2, 1)\n",
    "    new_A_LSR = np.reshape(A_LSR[i],(21,21))\n",
    "    sns.heatmap(new_A_LSR)\n",
    "    plt.title('Retrieved Spatial Map A_LSR %d'%(i+1))\n",
    "    \n",
    "    plt.subplot(1, 2, 2)\n",
    "    plt.plot(D_LSR.T[i])\n",
    "    plt.title('Retrieved Time Couse D_LSR %d'%(i+1))"
   ]
  },
  {
   "cell_type": "code",
   "execution_count": null,
   "id": "541d7984",
   "metadata": {},
   "outputs": [],
   "source": [
    "import scipy.stats as stats\n",
    "\n",
    "# Check the distribution for gamma t and gamma s\n",
    "fig = plt.figure(figsize=(12,4))\n",
    "\n",
    "plt.subplot(1,2,1)\n",
    "sns.distplot(gamma_t.flatten(), bins=25, label='temporal')\n",
    "#std_norm_t = np.linspace(0 - 1.96*0.25, 0 + 1.96*0.25)\n",
    "#plt.plot(std_norm_t, stats.norm.pdf(std_norm_t, 0, 0.25))\n",
    "plt.savefig('/Volumes/E/MAST30034_Python/plots/Q1.4TN_dist.pdf')\n",
    "plt.title('Histogram for Temporal Noise')\n",
    "\n",
    "plt.subplot(1,2,2)\n",
    "sns.distplot(gamma_s.flatten(), bins=25)\n",
    "#std_norm_s = np.linspace(0 - 1.96*0.015, 0 + 1.96*0.015)\n",
    "#plt.plot(std_norm_s, stats.norm.pdf(std_norm_s, 0, 0.015))\n",
    "plt.title('Histogram for Spatial Noise')\n",
    "plt.savefig('/Volumes/E/MAST30034_Python/plots/Q1.4SN_dist.pdf')\n",
    "plt.show()"
   ]
  },
  {
   "cell_type": "code",
   "execution_count": 4,
   "id": "14a90bfc",
   "metadata": {},
   "outputs": [
    {
     "data": {
      "text/plain": [
       "(6,)"
      ]
     },
     "execution_count": 4,
     "metadata": {},
     "output_type": "execute_result"
    }
   ],
   "source": [
    "import numpy as np\n",
    "\n",
    "(np.repeat(0, 6)).shape"
   ]
  },
  {
   "cell_type": "code",
   "execution_count": null,
   "id": "28a44685",
   "metadata": {},
   "outputs": [],
   "source": [
    "# Recalculate D_LR and A_LR\n",
    "# select the rho value with the smallest MSE\n",
    "\n",
    "rho = 0\n",
    "step = 1/(LA.norm(std_TC @ std_TC.T)*1.1)\n",
    "thr = rho *N *step\n",
    "Ao = np.zeros(nsrcs)\n",
    "A = np.zeros(nsrcs)\n",
    "A_LR = np.zeros((nsrcs, x1*x2)) \n",
    "\n",
    "\n",
    "gamma_t = np.random.normal(0, sqrt(0.25), size=(240,6))\n",
    "gamma_s = np.random.normal(0, sqrt(0.015), size=(6,441))\n",
    "X = (std_TC + gamma_t) @ (SM + gamma_s)\n",
    "X = (X - np.mean(X, axis=0)) / np.std(X, axis=0)\n",
    "\n",
    "# Modified R code for LASSO Regression\n",
    "for k in range(x1*x2):\n",
    "    A = Ao + step *(std_TC.T @ (X[:,k] - (std_TC @ Ao)))\n",
    "    A_sign = np.sign(A)\n",
    "    A = (1/(1+thr))*(A_sign*(np.maximum(np.zeros(nsrcs).T, (np.abs(A)-thr))))\n",
    "    \n",
    "    for j in range(10): \n",
    "        Ao = A\n",
    "        A = Ao + step *(std_TC.T @ (X[:,k] - (std_TC @ Ao)))\n",
    "        A_sign = np.sign(A)\n",
    "        A = (1/(1+thr))*(A_sign*(np.maximum(np.zeros(nsrcs).T, (np.abs(A)-thr))))\n",
    "        \n",
    "    A_LR[:,k] = A.flatten()     \n",
    "D_LR = X @ A_LR.T\n",
    "\n",
    "#m = np.sum(np.square(X - D_LR @ A_LR)/(N*V))\n",
    "m = np.square((LA.norm((X - D_LR @ A_LR), ord = 'fro')))/ (N *V)\n",
    "m"
   ]
  },
  {
   "cell_type": "code",
   "execution_count": null,
   "id": "6296bf78",
   "metadata": {},
   "outputs": [],
   "source": [
    "# Plot D_PCR and A_PCR side by side\n",
    "\n",
    "plt.figure(figsize=(18,10))\n",
    "for i in range(6):\n",
    "    plt.subplot(2, 3, i+1)\n",
    "    plt.scatter(D_PCR[i,:], A_PCR[:,i])\n",
    "    plt.xlabel('D_PCR %d'%(i+1))\n",
    "    plt.ylabel('A_PCR %d'%(i+1))\n",
    "    plt.title('D_PCR %d'%(i+1) +'vs A_PCR %d'%(i+1)) \n",
    "\n",
    "plt.savefig('/Volumes/E/MAST30034_Python/plots/Q2.5_PCR.pdf')\n",
    "plt.show()"
   ]
  },
  {
   "cell_type": "code",
   "execution_count": null,
   "id": "a5ab938f",
   "metadata": {},
   "outputs": [],
   "source": [
    "Z = U\n",
    "\n",
    "plt.figure(figsize=(18,10))\n",
    "for i in range(6):\n",
    "    plt.subplot(2, 3, i+1)\n",
    "    plt.scatter(Z[:,1], std_TC[:,1])\n",
    "    plt.xlabel('Z %d'%(i+1))\n",
    "    plt.ylabel('TC %d'%(i+1))\n",
    "    plt.title('Z %d'%(i+1) +'vs TC %d'%(i+1)) \n",
    "\n",
    "plt.savefig('/Volumes/E/MAST30034_Python/plots/Q2.5_ZvsTC.pdf')\n",
    "plt.show()"
   ]
  },
  {
   "cell_type": "code",
   "execution_count": null,
   "id": "c72bc4dc",
   "metadata": {},
   "outputs": [],
   "source": [
    "from sklearn.metrics import mean_squared_error as mean_sqr_error\n",
    "\n",
    "# Compute the MSE of PCR\n",
    "pred = U @ np.diag(V) @ W\n",
    "mean_sqr_error(D, pred)"
   ]
  },
  {
   "cell_type": "code",
   "execution_count": null,
   "id": "929a5431",
   "metadata": {},
   "outputs": [],
   "source": [
    "# Check the distribution for gamma t and gamma s\n",
    "\n",
    "sns.distplot(gamma_t.flatten(), bins=25, label='temporal')\n",
    "sns.distplot(gamma_s.flatten(), bins=25, label='spatial')\n",
    "plt.legend()\n",
    "plt.title('Data Distribution of Temporal and Spatial Noise')\n",
    "plt.savefig('/Volumes/E/MAST30034_Python/plots/Q1.4dist.pdf')\n",
    "plt.show()"
   ]
  },
  {
   "cell_type": "code",
   "execution_count": null,
   "id": "395e819c",
   "metadata": {},
   "outputs": [],
   "source": [
    "from statistics import mean\n",
    "\n",
    "nsrcs = 6\n",
    "x1 = 21\n",
    "x2 = 21\n",
    "V = 441\n",
    "N = 240\n",
    "rhos = np.arange(0, 1.05, 0.05)\n",
    "\n",
    "avg_MSE_lst = []\n",
    "rho_lst = []\n",
    "   \n",
    "# Repeat for each rho value\n",
    "for i in range(len(rhos)):\n",
    "    rho = rhos[i]\n",
    "    step = 1/(LA.norm(std_TC @ std_TC.T)*1.1)\n",
    "    thr = rho *N *step\n",
    "        \n",
    "    # Repeat the lasso for 10 times, each time with a new standardized X\n",
    "    for n in range(10):\n",
    "        gamma_t = np.random.normal(0, sqrt(0.25), size=(240,6))\n",
    "        gamma_s = np.random.normal(0, sqrt(0.015), size=(6,441))\n",
    "        X = (std_TC + gamma_t)@(SM + gamma_s)\n",
    "        X = (X - np.mean(X, axis=0)) / np.std(X, axis=0)\n",
    "        \n",
    "        Ao = np.zeros((nsrcs, 1))\n",
    "        A = np.zeros((nsrcs, 1))\n",
    "        A_LR = np.zeros((nsrcs, x1*x2)) \n",
    "        MSE_lst = []\n",
    "    \n",
    "        # Modified R code for LASSO Regression\n",
    "        for k in range(x1*x2):\n",
    "            A = Ao + step *(std_TC.T @ (X[:,k].reshape(-1,1) - std_TC @ Ao))\n",
    "            A_sign = np.sign(A).flatten()\n",
    "            A = (1/(1+thr))*(A_sign*(np.maximum(np.repeat(0, nsrcs) , (np.abs(A)-thr).T.flatten())))\n",
    "            A = A.reshape(-1,1)\n",
    "            \n",
    "            for j in range(10): \n",
    "                Ao = A\n",
    "                A = Ao + step *(std_TC.T @ (X[:,k].reshape(-1,1) - std_TC @ Ao))\n",
    "                A_sign = np.sign(A).flatten()\n",
    "                A = (1/(1+thr))*(A_sign*(np.maximum(np.repeat(0, nsrcs) , (np.abs(A)-thr).T.flatten())))\n",
    "                A = A.reshape(-1,1)\n",
    "\n",
    "            A_LR[:,k] = A.flatten()\n",
    "        \n",
    "        D_LR = X @ A_LR.T\n",
    "        mse = np.sum(LA.norm((X - D_LR @ A_LR), ord = 'fro'))/ (N *V)\n",
    "        MSE_lst.append(mse)\n",
    "            \n",
    "    avg_MSE_lst.append(mean(MSE_lst))\n",
    "    rho_lst.append(rho) "
   ]
  },
  {
   "cell_type": "code",
   "execution_count": null,
   "id": "474fe097",
   "metadata": {},
   "outputs": [],
   "source": [
    "# Plot 100 randomly selected sample from X\n",
    "X_sample = X[np.random.randint(X.shape[0], size=100)]\n",
    "\n",
    "plt.figure(figsize=(12,8))\n",
    "plt.plot(X_sample)\n",
    "plt.ylabel('value',fontsize=16)\n",
    "plt.title('Sample of Time-sereis Data',fontsize=18)\n",
    "plt.savefig('/Volumes/E/MAST30034_Python/plots/Q1.5sample.pdf')\n",
    "plt.show()"
   ]
  }
 ],
 "metadata": {
  "kernelspec": {
   "display_name": "Python 3 (ipykernel)",
   "language": "python",
   "name": "python3"
  },
  "language_info": {
   "codemirror_mode": {
    "name": "ipython",
    "version": 3
   },
   "file_extension": ".py",
   "mimetype": "text/x-python",
   "name": "python",
   "nbconvert_exporter": "python",
   "pygments_lexer": "ipython3",
   "version": "3.8.0b4"
  }
 },
 "nbformat": 4,
 "nbformat_minor": 5
}
